{
  "nbformat": 4,
  "nbformat_minor": 0,
  "metadata": {
    "colab": {
      "provenance": []
    },
    "kernelspec": {
      "name": "python3",
      "display_name": "Python 3"
    },
    "language_info": {
      "name": "python"
    }
  },
  "cells": [
    {
      "cell_type": "markdown",
      "source": [
        "MLP for Regression"
      ],
      "metadata": {
        "id": "v4aPQkXb_VLh"
      }
    },
    {
      "cell_type": "markdown",
      "source": [
        "Import libraries"
      ],
      "metadata": {
        "id": "V8QWsP4RUWVs"
      }
    },
    {
      "cell_type": "code",
      "source": [
        "import pandas as pd\n",
        "from sklearn.model_selection import train_test_split\n",
        "from sklearn.preprocessing import StandardScaler\n",
        "from tensorflow import keras\n",
        "from tensorflow.keras import layers\n",
        ""
      ],
      "metadata": {
        "id": "1wBZD-el_SqU"
      },
      "execution_count": 37,
      "outputs": []
    },
    {
      "cell_type": "markdown",
      "source": [
        "Load housing dataset"
      ],
      "metadata": {
        "id": "y5qY_zAZUocb"
      }
    },
    {
      "cell_type": "code",
      "source": [
        "!wget https://raw.githubusercontent.com/jbrownlee/Datasets/master/housing.csv"
      ],
      "metadata": {
        "colab": {
          "base_uri": "https://localhost:8080/"
        },
        "id": "2VU4QKbL_TJw",
        "outputId": "855e2892-23c7-40df-a34d-eb5561449376"
      },
      "execution_count": 38,
      "outputs": [
        {
          "output_type": "stream",
          "name": "stdout",
          "text": [
            "--2024-01-13 16:11:17--  https://raw.githubusercontent.com/jbrownlee/Datasets/master/housing.csv\n",
            "Resolving raw.githubusercontent.com (raw.githubusercontent.com)... 185.199.108.133, 185.199.109.133, 185.199.110.133, ...\n",
            "Connecting to raw.githubusercontent.com (raw.githubusercontent.com)|185.199.108.133|:443... connected.\n",
            "HTTP request sent, awaiting response... 200 OK\n",
            "Length: 41295 (40K) [text/plain]\n",
            "Saving to: ‘housing.csv.2’\n",
            "\n",
            "\rhousing.csv.2         0%[                    ]       0  --.-KB/s               \rhousing.csv.2       100%[===================>]  40.33K  --.-KB/s    in 0.01s   \n",
            "\n",
            "2024-01-13 16:11:17 (3.53 MB/s) - ‘housing.csv.2’ saved [41295/41295]\n",
            "\n"
          ]
        }
      ]
    },
    {
      "cell_type": "code",
      "source": [
        "names_c = [\"CRIM\", \"ZN\", \"INDUS\", \"CHAS\", \"NOX\", \"RM\", \"AGE\", \"DIS\", \"RAD\", \"TAX\", \"PTRATIO\", \"B\", \"LSTAT\", \"MEDV\"]"
      ],
      "metadata": {
        "id": "b_Cj1ChrVGO5"
      },
      "execution_count": 39,
      "outputs": []
    },
    {
      "cell_type": "code",
      "source": [
        "housing_data = pd.read_csv(\"housing.csv\", names=names_c)"
      ],
      "metadata": {
        "id": "M4PqmT3Z_rBL"
      },
      "execution_count": 40,
      "outputs": []
    },
    {
      "cell_type": "code",
      "source": [
        "X = housing_data.drop(\"MEDV\", axis=1)\n",
        "y = housing_data[\"MEDV\"]\n",
        ""
      ],
      "metadata": {
        "id": "FwooI2fs_q-B"
      },
      "execution_count": 41,
      "outputs": []
    },
    {
      "cell_type": "code",
      "source": [],
      "metadata": {
        "id": "3LWg_GVxB-98"
      },
      "execution_count": 41,
      "outputs": []
    },
    {
      "cell_type": "code",
      "source": [
        "X_train,X_test,y_train,y_test = train_test_split(X,y,test_size = .2,random_state=42)"
      ],
      "metadata": {
        "id": "JC3d3o-Y_q4Y"
      },
      "execution_count": 42,
      "outputs": []
    },
    {
      "cell_type": "code",
      "source": [
        "scaler = StandardScaler()\n",
        "X_train = scaler.fit_transform(X_train)\n",
        "X_test = scaler.transform(X_test)"
      ],
      "metadata": {
        "id": "NEvgmGZUCbXJ"
      },
      "execution_count": 43,
      "outputs": []
    },
    {
      "cell_type": "code",
      "source": [
        "\n",
        "model = keras.Sequential([\n",
        "    layers.Dense(64, activation='relu', input_shape=(13,)),\n",
        "    layers.Dense(64, activation='relu'),\n",
        "    layers.Dense(1)\n",
        "])"
      ],
      "metadata": {
        "id": "rutMzTMn_q1k"
      },
      "execution_count": 44,
      "outputs": []
    },
    {
      "cell_type": "code",
      "source": [
        "model.compile(optimizer='adam',\n",
        "              loss='mean_squared_error',\n",
        "              metrics=['mae'])\n",
        ""
      ],
      "metadata": {
        "id": "WP4ggSNq_qv7"
      },
      "execution_count": 45,
      "outputs": []
    },
    {
      "cell_type": "code",
      "source": [
        "model.fit(X_train, y_train, epochs=50, batch_size=32, validation_split=0.2)\n",
        ""
      ],
      "metadata": {
        "colab": {
          "base_uri": "https://localhost:8080/"
        },
        "id": "luwfAO9o_qs3",
        "outputId": "7857a792-5ff2-4f75-a3a5-99d9eb828aaa"
      },
      "execution_count": 46,
      "outputs": [
        {
          "output_type": "stream",
          "name": "stdout",
          "text": [
            "Epoch 1/50\n",
            "11/11 [==============================] - 1s 16ms/step - loss: 590.0631 - mae: 22.2898 - val_loss: 508.4514 - val_mae: 20.9105\n",
            "Epoch 2/50\n",
            "11/11 [==============================] - 0s 5ms/step - loss: 541.8196 - mae: 21.1561 - val_loss: 461.2871 - val_mae: 19.7412\n",
            "Epoch 3/50\n",
            "11/11 [==============================] - 0s 5ms/step - loss: 487.0416 - mae: 19.8048 - val_loss: 402.9077 - val_mae: 18.2059\n",
            "Epoch 4/50\n",
            "11/11 [==============================] - 0s 4ms/step - loss: 418.0908 - mae: 17.9854 - val_loss: 331.1583 - val_mae: 16.2161\n",
            "Epoch 5/50\n",
            "11/11 [==============================] - 0s 4ms/step - loss: 336.1874 - mae: 15.7494 - val_loss: 249.6226 - val_mae: 13.8142\n",
            "Epoch 6/50\n",
            "11/11 [==============================] - 0s 5ms/step - loss: 247.1876 - mae: 13.1055 - val_loss: 166.8823 - val_mae: 10.9326\n",
            "Epoch 7/50\n",
            "11/11 [==============================] - 0s 6ms/step - loss: 163.2995 - mae: 10.2448 - val_loss: 101.9777 - val_mae: 8.0115\n",
            "Epoch 8/50\n",
            "11/11 [==============================] - 0s 6ms/step - loss: 107.2985 - mae: 8.1494 - val_loss: 64.3496 - val_mae: 5.9260\n",
            "Epoch 9/50\n",
            "11/11 [==============================] - 0s 5ms/step - loss: 77.8341 - mae: 6.8618 - val_loss: 46.0441 - val_mae: 4.9184\n",
            "Epoch 10/50\n",
            "11/11 [==============================] - 0s 6ms/step - loss: 60.0512 - mae: 5.9815 - val_loss: 35.7488 - val_mae: 4.3496\n",
            "Epoch 11/50\n",
            "11/11 [==============================] - 0s 5ms/step - loss: 46.3779 - mae: 5.2184 - val_loss: 29.9870 - val_mae: 3.9028\n",
            "Epoch 12/50\n",
            "11/11 [==============================] - 0s 5ms/step - loss: 35.7719 - mae: 4.5314 - val_loss: 27.3023 - val_mae: 3.6765\n",
            "Epoch 13/50\n",
            "11/11 [==============================] - 0s 4ms/step - loss: 29.4947 - mae: 4.0388 - val_loss: 26.2602 - val_mae: 3.6450\n",
            "Epoch 14/50\n",
            "11/11 [==============================] - 0s 5ms/step - loss: 26.1790 - mae: 3.7817 - val_loss: 25.0190 - val_mae: 3.5727\n",
            "Epoch 15/50\n",
            "11/11 [==============================] - 0s 4ms/step - loss: 23.6215 - mae: 3.6380 - val_loss: 24.8402 - val_mae: 3.5093\n",
            "Epoch 16/50\n",
            "11/11 [==============================] - 0s 6ms/step - loss: 21.9111 - mae: 3.4660 - val_loss: 25.0994 - val_mae: 3.4799\n",
            "Epoch 17/50\n",
            "11/11 [==============================] - 0s 6ms/step - loss: 20.8550 - mae: 3.3705 - val_loss: 24.4149 - val_mae: 3.4355\n",
            "Epoch 18/50\n",
            "11/11 [==============================] - 0s 5ms/step - loss: 19.7178 - mae: 3.3083 - val_loss: 24.4739 - val_mae: 3.3988\n",
            "Epoch 19/50\n",
            "11/11 [==============================] - 0s 4ms/step - loss: 18.8161 - mae: 3.2355 - val_loss: 23.9598 - val_mae: 3.3486\n",
            "Epoch 20/50\n",
            "11/11 [==============================] - 0s 5ms/step - loss: 18.0516 - mae: 3.1417 - val_loss: 23.1753 - val_mae: 3.3285\n",
            "Epoch 21/50\n",
            "11/11 [==============================] - 0s 6ms/step - loss: 17.4136 - mae: 3.0704 - val_loss: 22.8943 - val_mae: 3.2949\n",
            "Epoch 22/50\n",
            "11/11 [==============================] - 0s 3ms/step - loss: 16.9181 - mae: 3.0289 - val_loss: 21.8688 - val_mae: 3.2414\n",
            "Epoch 23/50\n",
            "11/11 [==============================] - 0s 4ms/step - loss: 16.4102 - mae: 2.9882 - val_loss: 21.3892 - val_mae: 3.1842\n",
            "Epoch 24/50\n",
            "11/11 [==============================] - 0s 3ms/step - loss: 15.9051 - mae: 2.9396 - val_loss: 21.0994 - val_mae: 3.1619\n",
            "Epoch 25/50\n",
            "11/11 [==============================] - 0s 5ms/step - loss: 15.4852 - mae: 2.9120 - val_loss: 21.0502 - val_mae: 3.1373\n",
            "Epoch 26/50\n",
            "11/11 [==============================] - 0s 4ms/step - loss: 15.0895 - mae: 2.8905 - val_loss: 20.8398 - val_mae: 3.1303\n",
            "Epoch 27/50\n",
            "11/11 [==============================] - 0s 5ms/step - loss: 14.7867 - mae: 2.8433 - val_loss: 20.1990 - val_mae: 3.1177\n",
            "Epoch 28/50\n",
            "11/11 [==============================] - 0s 4ms/step - loss: 14.5859 - mae: 2.8414 - val_loss: 19.6266 - val_mae: 3.0757\n",
            "Epoch 29/50\n",
            "11/11 [==============================] - 0s 5ms/step - loss: 14.2079 - mae: 2.8248 - val_loss: 19.3731 - val_mae: 3.0463\n",
            "Epoch 30/50\n",
            "11/11 [==============================] - 0s 4ms/step - loss: 14.5893 - mae: 2.9043 - val_loss: 18.7980 - val_mae: 3.0649\n",
            "Epoch 31/50\n",
            "11/11 [==============================] - 0s 4ms/step - loss: 13.9470 - mae: 2.8302 - val_loss: 18.2443 - val_mae: 3.0099\n",
            "Epoch 32/50\n",
            "11/11 [==============================] - 0s 6ms/step - loss: 13.3875 - mae: 2.7379 - val_loss: 17.8913 - val_mae: 2.9753\n",
            "Epoch 33/50\n",
            "11/11 [==============================] - 0s 5ms/step - loss: 13.2120 - mae: 2.7142 - val_loss: 17.9237 - val_mae: 2.9521\n",
            "Epoch 34/50\n",
            "11/11 [==============================] - 0s 5ms/step - loss: 12.9847 - mae: 2.6909 - val_loss: 17.8710 - val_mae: 2.9539\n",
            "Epoch 35/50\n",
            "11/11 [==============================] - 0s 5ms/step - loss: 12.7385 - mae: 2.6602 - val_loss: 17.9449 - val_mae: 2.9619\n",
            "Epoch 36/50\n",
            "11/11 [==============================] - 0s 4ms/step - loss: 12.5385 - mae: 2.6404 - val_loss: 17.3773 - val_mae: 2.9293\n",
            "Epoch 37/50\n",
            "11/11 [==============================] - 0s 3ms/step - loss: 12.5283 - mae: 2.6463 - val_loss: 17.2942 - val_mae: 2.9388\n",
            "Epoch 38/50\n",
            "11/11 [==============================] - 0s 3ms/step - loss: 12.2059 - mae: 2.6205 - val_loss: 17.4230 - val_mae: 2.9418\n",
            "Epoch 39/50\n",
            "11/11 [==============================] - 0s 5ms/step - loss: 12.1165 - mae: 2.5645 - val_loss: 17.1860 - val_mae: 2.9277\n",
            "Epoch 40/50\n",
            "11/11 [==============================] - 0s 5ms/step - loss: 11.9171 - mae: 2.5520 - val_loss: 17.1059 - val_mae: 2.9155\n",
            "Epoch 41/50\n",
            "11/11 [==============================] - 0s 6ms/step - loss: 11.9776 - mae: 2.6179 - val_loss: 17.9855 - val_mae: 2.9791\n",
            "Epoch 42/50\n",
            "11/11 [==============================] - 0s 4ms/step - loss: 11.7570 - mae: 2.5876 - val_loss: 16.7377 - val_mae: 2.8911\n",
            "Epoch 43/50\n",
            "11/11 [==============================] - 0s 4ms/step - loss: 11.5252 - mae: 2.5044 - val_loss: 16.2134 - val_mae: 2.8590\n",
            "Epoch 44/50\n",
            "11/11 [==============================] - 0s 5ms/step - loss: 11.3944 - mae: 2.5115 - val_loss: 16.7489 - val_mae: 2.9017\n",
            "Epoch 45/50\n",
            "11/11 [==============================] - 0s 6ms/step - loss: 11.3242 - mae: 2.5050 - val_loss: 17.0360 - val_mae: 2.8982\n",
            "Epoch 46/50\n",
            "11/11 [==============================] - 0s 5ms/step - loss: 11.1806 - mae: 2.4841 - val_loss: 16.4819 - val_mae: 2.8764\n",
            "Epoch 47/50\n",
            "11/11 [==============================] - 0s 6ms/step - loss: 11.0957 - mae: 2.4894 - val_loss: 16.2140 - val_mae: 2.8495\n",
            "Epoch 48/50\n",
            "11/11 [==============================] - 0s 5ms/step - loss: 10.9115 - mae: 2.4562 - val_loss: 15.7962 - val_mae: 2.8191\n",
            "Epoch 49/50\n",
            "11/11 [==============================] - 0s 5ms/step - loss: 10.9694 - mae: 2.4868 - val_loss: 15.3594 - val_mae: 2.8317\n",
            "Epoch 50/50\n",
            "11/11 [==============================] - 0s 6ms/step - loss: 10.9640 - mae: 2.4687 - val_loss: 15.4931 - val_mae: 2.8402\n"
          ]
        },
        {
          "output_type": "execute_result",
          "data": {
            "text/plain": [
              "<keras.src.callbacks.History at 0x782bad36a4a0>"
            ]
          },
          "metadata": {},
          "execution_count": 46
        }
      ]
    },
    {
      "cell_type": "code",
      "source": [
        "loss = model.evaluate(X_test, y_test)\n",
        "print(f'Mean Squared Error on Test Set: {loss}')"
      ],
      "metadata": {
        "colab": {
          "base_uri": "https://localhost:8080/"
        },
        "id": "Bb-3Cp8J_qnj",
        "outputId": "49d63e2f-d549-4dd2-b0e4-899e162cd88c"
      },
      "execution_count": 47,
      "outputs": [
        {
          "output_type": "stream",
          "name": "stdout",
          "text": [
            "4/4 [==============================] - 0s 2ms/step - loss: 13.7111 - mae: 2.4964\n",
            "Mean Squared Error on Test Set: [13.71107006072998, 2.4964332580566406]\n"
          ]
        }
      ]
    },
    {
      "cell_type": "code",
      "source": [
        "predictions = model.predict(X_test)"
      ],
      "metadata": {
        "colab": {
          "base_uri": "https://localhost:8080/"
        },
        "id": "eiz4HRr6_qiv",
        "outputId": "8fd140de-90b8-4c2e-f360-4141e677c25f"
      },
      "execution_count": 48,
      "outputs": [
        {
          "output_type": "stream",
          "name": "stdout",
          "text": [
            "4/4 [==============================] - 0s 2ms/step\n"
          ]
        }
      ]
    }
  ]
}