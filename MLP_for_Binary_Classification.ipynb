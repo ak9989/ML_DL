{
  "nbformat": 4,
  "nbformat_minor": 0,
  "metadata": {
    "colab": {
      "provenance": []
    },
    "kernelspec": {
      "name": "python3",
      "display_name": "Python 3"
    },
    "language_info": {
      "name": "python"
    }
  },
  "cells": [
    {
      "cell_type": "markdown",
      "source": [
        " MLP for binary classification.\n"
      ],
      "metadata": {
        "id": "_OUer2HMKDsh"
      }
    },
    {
      "cell_type": "markdown",
      "source": [
        "Import libraries"
      ],
      "metadata": {
        "id": "x4Qx9eC7Lsmy"
      }
    },
    {
      "cell_type": "code",
      "source": [
        "import numpy as np\n",
        "import pandas as pd\n",
        "from sklearn.model_selection import train_test_split\n",
        "from sklearn.preprocessing import StandardScaler\n",
        "from sklearn.preprocessing import LabelEncoder\n",
        "from sklearn.metrics import accuracy_score\n",
        "from tensorflow import keras\n",
        "from tensorflow.keras import layers\n",
        "from tensorflow.keras.layers import Dense\n",
        "from tensorflow.keras.initializers import he_normal"
      ],
      "metadata": {
        "id": "6ppnsL09JG8u"
      },
      "execution_count": 84,
      "outputs": []
    },
    {
      "cell_type": "markdown",
      "source": [
        "Load the Ionosphere dataset"
      ],
      "metadata": {
        "id": "jvebqFRSKWL_"
      }
    },
    {
      "cell_type": "code",
      "source": [
        "!wget https://raw.githubusercontent.com/jbrownlee/Datasets/master/ionosphere.csv"
      ],
      "metadata": {
        "colab": {
          "base_uri": "https://localhost:8080/"
        },
        "id": "JsahQ1AcBh3W",
        "outputId": "e7c2a60a-c3ec-473d-d39d-a47500df1a03"
      },
      "execution_count": 85,
      "outputs": [
        {
          "output_type": "stream",
          "name": "stdout",
          "text": [
            "--2024-01-09 07:37:58--  https://raw.githubusercontent.com/jbrownlee/Datasets/master/ionosphere.csv\n",
            "Resolving raw.githubusercontent.com (raw.githubusercontent.com)... 185.199.108.133, 185.199.109.133, 185.199.110.133, ...\n",
            "Connecting to raw.githubusercontent.com (raw.githubusercontent.com)|185.199.108.133|:443... connected.\n",
            "HTTP request sent, awaiting response... 200 OK\n",
            "Length: 76466 (75K) [text/plain]\n",
            "Saving to: ‘ionosphere.csv.2’\n",
            "\n",
            "\rionosphere.csv.2      0%[                    ]       0  --.-KB/s               \rionosphere.csv.2    100%[===================>]  74.67K  --.-KB/s    in 0.001s  \n",
            "\n",
            "2024-01-09 07:37:58 (63.0 MB/s) - ‘ionosphere.csv.2’ saved [76466/76466]\n",
            "\n"
          ]
        }
      ]
    },
    {
      "cell_type": "code",
      "source": [
        "ionosphere = pd.read_csv(\"ionosphere.csv.1\")"
      ],
      "metadata": {
        "id": "FdhtTDbRF4J2"
      },
      "execution_count": 86,
      "outputs": []
    },
    {
      "cell_type": "markdown",
      "source": [
        "Extract features and labels"
      ],
      "metadata": {
        "id": "7FJwPN43K9lM"
      }
    },
    {
      "cell_type": "code",
      "source": [
        "X= ionosphere.iloc[:, :-1]\n",
        "y= ionosphere.iloc[:, -1]"
      ],
      "metadata": {
        "id": "6z3ep2vuF9R_"
      },
      "execution_count": 87,
      "outputs": []
    },
    {
      "cell_type": "markdown",
      "source": [
        "Encode labels using LabelEncoder"
      ],
      "metadata": {
        "id": "4FR56xANLCOG"
      }
    },
    {
      "cell_type": "code",
      "source": [
        "label_encoder = LabelEncoder()\n",
        "y= label_encoder.fit_transform(y)"
      ],
      "metadata": {
        "id": "ILS_Y_wGGEI8"
      },
      "execution_count": 88,
      "outputs": []
    },
    {
      "cell_type": "markdown",
      "source": [
        "Split the data into training and testing sets"
      ],
      "metadata": {
        "id": "GCjQDUpqKYPI"
      }
    },
    {
      "cell_type": "code",
      "source": [
        "X_train,X_test,y_train,y_test = train_test_split(X,y,test_size = .33,random_state=42)"
      ],
      "metadata": {
        "id": "q4pYZOSpGFTF"
      },
      "execution_count": 89,
      "outputs": []
    },
    {
      "cell_type": "markdown",
      "source": [
        "Building  MLP model"
      ],
      "metadata": {
        "id": "CQgj9LAsLG5q"
      }
    },
    {
      "cell_type": "code",
      "source": [
        "model = keras.Sequential()\n",
        "model.add(Dense(64, input_dim=X_train.shape[1], activation='relu', kernel_initializer=he_normal()))\n",
        "model.add(Dense(32, activation='relu', kernel_initializer=he_normal()))\n",
        "model.add(Dense(1, activation='sigmoid'))"
      ],
      "metadata": {
        "id": "q4WUMGNjGFQN"
      },
      "execution_count": 90,
      "outputs": []
    },
    {
      "cell_type": "markdown",
      "source": [
        "Compile the model"
      ],
      "metadata": {
        "id": "OH4_E9M5KZ-Q"
      }
    },
    {
      "cell_type": "code",
      "source": [
        "model.compile(optimizer='Adam', loss='binary_crossentropy', metrics=['accuracy'])"
      ],
      "metadata": {
        "id": "Z9UuezLoGFNn"
      },
      "execution_count": 91,
      "outputs": []
    },
    {
      "cell_type": "markdown",
      "source": [
        " Train the model"
      ],
      "metadata": {
        "id": "WVEHw3qbLS4W"
      }
    },
    {
      "cell_type": "code",
      "source": [
        "model.fit(X_train, y_train, epochs=50, batch_size=32, verbose=1)"
      ],
      "metadata": {
        "colab": {
          "base_uri": "https://localhost:8080/"
        },
        "id": "SIqTprWuJlEM",
        "outputId": "6ce71058-5839-417e-fa2e-05acc27aea76"
      },
      "execution_count": 92,
      "outputs": [
        {
          "output_type": "stream",
          "name": "stdout",
          "text": [
            "Epoch 1/50\n",
            "8/8 [==============================] - 1s 3ms/step - loss: 0.8092 - accuracy: 0.6026\n",
            "Epoch 2/50\n",
            "8/8 [==============================] - 0s 3ms/step - loss: 0.5985 - accuracy: 0.6709\n",
            "Epoch 3/50\n",
            "8/8 [==============================] - 0s 4ms/step - loss: 0.5075 - accuracy: 0.7607\n",
            "Epoch 4/50\n",
            "8/8 [==============================] - 0s 3ms/step - loss: 0.4529 - accuracy: 0.8205\n",
            "Epoch 5/50\n",
            "8/8 [==============================] - 0s 3ms/step - loss: 0.4064 - accuracy: 0.8718\n",
            "Epoch 6/50\n",
            "8/8 [==============================] - 0s 3ms/step - loss: 0.3679 - accuracy: 0.9017\n",
            "Epoch 7/50\n",
            "8/8 [==============================] - 0s 3ms/step - loss: 0.3376 - accuracy: 0.9103\n",
            "Epoch 8/50\n",
            "8/8 [==============================] - 0s 4ms/step - loss: 0.3100 - accuracy: 0.9145\n",
            "Epoch 9/50\n",
            "8/8 [==============================] - 0s 3ms/step - loss: 0.2864 - accuracy: 0.9231\n",
            "Epoch 10/50\n",
            "8/8 [==============================] - 0s 3ms/step - loss: 0.2659 - accuracy: 0.9274\n",
            "Epoch 11/50\n",
            "8/8 [==============================] - 0s 3ms/step - loss: 0.2478 - accuracy: 0.9274\n",
            "Epoch 12/50\n",
            "8/8 [==============================] - 0s 3ms/step - loss: 0.2349 - accuracy: 0.9316\n",
            "Epoch 13/50\n",
            "8/8 [==============================] - 0s 4ms/step - loss: 0.2187 - accuracy: 0.9359\n",
            "Epoch 14/50\n",
            "8/8 [==============================] - 0s 3ms/step - loss: 0.2074 - accuracy: 0.9444\n",
            "Epoch 15/50\n",
            "8/8 [==============================] - 0s 3ms/step - loss: 0.1963 - accuracy: 0.9487\n",
            "Epoch 16/50\n",
            "8/8 [==============================] - 0s 4ms/step - loss: 0.1853 - accuracy: 0.9487\n",
            "Epoch 17/50\n",
            "8/8 [==============================] - 0s 3ms/step - loss: 0.1754 - accuracy: 0.9487\n",
            "Epoch 18/50\n",
            "8/8 [==============================] - 0s 3ms/step - loss: 0.1671 - accuracy: 0.9487\n",
            "Epoch 19/50\n",
            "8/8 [==============================] - 0s 3ms/step - loss: 0.1569 - accuracy: 0.9615\n",
            "Epoch 20/50\n",
            "8/8 [==============================] - 0s 3ms/step - loss: 0.1504 - accuracy: 0.9615\n",
            "Epoch 21/50\n",
            "8/8 [==============================] - 0s 3ms/step - loss: 0.1421 - accuracy: 0.9615\n",
            "Epoch 22/50\n",
            "8/8 [==============================] - 0s 3ms/step - loss: 0.1341 - accuracy: 0.9615\n",
            "Epoch 23/50\n",
            "8/8 [==============================] - 0s 5ms/step - loss: 0.1272 - accuracy: 0.9658\n",
            "Epoch 24/50\n",
            "8/8 [==============================] - 0s 4ms/step - loss: 0.1211 - accuracy: 0.9658\n",
            "Epoch 25/50\n",
            "8/8 [==============================] - 0s 4ms/step - loss: 0.1151 - accuracy: 0.9744\n",
            "Epoch 26/50\n",
            "8/8 [==============================] - 0s 3ms/step - loss: 0.1091 - accuracy: 0.9744\n",
            "Epoch 27/50\n",
            "8/8 [==============================] - 0s 3ms/step - loss: 0.1034 - accuracy: 0.9744\n",
            "Epoch 28/50\n",
            "8/8 [==============================] - 0s 3ms/step - loss: 0.0992 - accuracy: 0.9744\n",
            "Epoch 29/50\n",
            "8/8 [==============================] - 0s 3ms/step - loss: 0.0941 - accuracy: 0.9744\n",
            "Epoch 30/50\n",
            "8/8 [==============================] - 0s 3ms/step - loss: 0.0938 - accuracy: 0.9829\n",
            "Epoch 31/50\n",
            "8/8 [==============================] - 0s 3ms/step - loss: 0.0870 - accuracy: 0.9829\n",
            "Epoch 32/50\n",
            "8/8 [==============================] - 0s 4ms/step - loss: 0.0850 - accuracy: 0.9786\n",
            "Epoch 33/50\n",
            "8/8 [==============================] - 0s 3ms/step - loss: 0.0809 - accuracy: 0.9829\n",
            "Epoch 34/50\n",
            "8/8 [==============================] - 0s 3ms/step - loss: 0.0780 - accuracy: 0.9829\n",
            "Epoch 35/50\n",
            "8/8 [==============================] - 0s 3ms/step - loss: 0.0756 - accuracy: 0.9829\n",
            "Epoch 36/50\n",
            "8/8 [==============================] - 0s 3ms/step - loss: 0.0741 - accuracy: 0.9829\n",
            "Epoch 37/50\n",
            "8/8 [==============================] - 0s 3ms/step - loss: 0.0705 - accuracy: 0.9829\n",
            "Epoch 38/50\n",
            "8/8 [==============================] - 0s 3ms/step - loss: 0.0678 - accuracy: 0.9829\n",
            "Epoch 39/50\n",
            "8/8 [==============================] - 0s 3ms/step - loss: 0.0655 - accuracy: 0.9829\n",
            "Epoch 40/50\n",
            "8/8 [==============================] - 0s 4ms/step - loss: 0.0640 - accuracy: 0.9829\n",
            "Epoch 41/50\n",
            "8/8 [==============================] - 0s 3ms/step - loss: 0.0622 - accuracy: 0.9829\n",
            "Epoch 42/50\n",
            "8/8 [==============================] - 0s 3ms/step - loss: 0.0631 - accuracy: 0.9829\n",
            "Epoch 43/50\n",
            "8/8 [==============================] - 0s 4ms/step - loss: 0.0588 - accuracy: 0.9829\n",
            "Epoch 44/50\n",
            "8/8 [==============================] - 0s 4ms/step - loss: 0.0582 - accuracy: 0.9829\n",
            "Epoch 45/50\n",
            "8/8 [==============================] - 0s 3ms/step - loss: 0.0571 - accuracy: 0.9829\n",
            "Epoch 46/50\n",
            "8/8 [==============================] - 0s 3ms/step - loss: 0.0553 - accuracy: 0.9829\n",
            "Epoch 47/50\n",
            "8/8 [==============================] - 0s 4ms/step - loss: 0.0526 - accuracy: 0.9829\n",
            "Epoch 48/50\n",
            "8/8 [==============================] - 0s 4ms/step - loss: 0.0513 - accuracy: 0.9829\n",
            "Epoch 49/50\n",
            "8/8 [==============================] - 0s 3ms/step - loss: 0.0492 - accuracy: 0.9829\n",
            "Epoch 50/50\n",
            "8/8 [==============================] - 0s 3ms/step - loss: 0.0491 - accuracy: 0.9829\n"
          ]
        },
        {
          "output_type": "execute_result",
          "data": {
            "text/plain": [
              "<keras.src.callbacks.History at 0x7ad6d5ccdb40>"
            ]
          },
          "metadata": {},
          "execution_count": 92
        }
      ]
    },
    {
      "cell_type": "markdown",
      "source": [
        "Make predictions on new data"
      ],
      "metadata": {
        "id": "yhBYfJn_LVhT"
      }
    },
    {
      "cell_type": "code",
      "source": [
        "y_pred_probs = model.predict(X_test)\n",
        "y_pred_classes = (y_pred_probs > 0.5).astype(int)"
      ],
      "metadata": {
        "colab": {
          "base_uri": "https://localhost:8080/"
        },
        "id": "_Lf-UWt7Jqy7",
        "outputId": "1d395bb3-3869-464e-9df2-78c75e38ff6c"
      },
      "execution_count": 93,
      "outputs": [
        {
          "output_type": "stream",
          "name": "stdout",
          "text": [
            "4/4 [==============================] - 0s 3ms/step\n"
          ]
        }
      ]
    },
    {
      "cell_type": "markdown",
      "source": [
        "Calculate accuracy on the test set"
      ],
      "metadata": {
        "id": "xnjTrX82Lde-"
      }
    },
    {
      "cell_type": "code",
      "source": [
        "accuracy = accuracy_score(y_test, y_pred_classes)\n",
        "print(f\"Accuracy on test data: {accuracy * 100:.2f}%\")\n",
        ""
      ],
      "metadata": {
        "colab": {
          "base_uri": "https://localhost:8080/"
        },
        "id": "8mYhgWXnJuZ-",
        "outputId": "be764e34-8e44-40b3-8e84-7bb6129f5a4e"
      },
      "execution_count": 94,
      "outputs": [
        {
          "output_type": "stream",
          "name": "stdout",
          "text": [
            "Accuracy on test data: 94.83%\n"
          ]
        }
      ]
    }
  ]
}