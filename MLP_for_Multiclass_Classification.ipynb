{
  "nbformat": 4,
  "nbformat_minor": 0,
  "metadata": {
    "colab": {
      "provenance": [],
      "gpuType": "T4"
    },
    "kernelspec": {
      "name": "python3",
      "display_name": "Python 3"
    },
    "language_info": {
      "name": "python"
    },
    "accelerator": "GPU"
  },
  "cells": [
    {
      "cell_type": "markdown",
      "source": [
        "MLP for Multiclass Classification"
      ],
      "metadata": {
        "id": "M_XVl_MiMpCq"
      }
    },
    {
      "cell_type": "markdown",
      "source": [
        "Import libraries"
      ],
      "metadata": {
        "id": "m77x6RmhMqys"
      }
    },
    {
      "cell_type": "code",
      "source": [
        "import pandas as pd\n",
        "from sklearn.model_selection import train_test_split\n",
        "from sklearn.preprocessing import StandardScaler\n",
        "from sklearn.metrics import accuracy_score\n",
        "from tensorflow import keras\n",
        "from tensorflow.keras import layers"
      ],
      "metadata": {
        "id": "6xYH2PWiMzra"
      },
      "execution_count": null,
      "outputs": []
    },
    {
      "cell_type": "markdown",
      "source": [
        "Load the Iris dataset"
      ],
      "metadata": {
        "id": "l-P7d7FLN188"
      }
    },
    {
      "cell_type": "code",
      "source": [
        "!wget https://raw.githubusercontent.com/jbrownlee/Datasets/master/iris.csv"
      ],
      "metadata": {
        "colab": {
          "base_uri": "https://localhost:8080/"
        },
        "id": "Q1wpj8_LN1lZ",
        "outputId": "f1d1b509-ce51-40b1-d535-4ce8dff83bc9"
      },
      "execution_count": null,
      "outputs": [
        {
          "output_type": "stream",
          "name": "stdout",
          "text": [
            "--2024-01-13 14:46:33--  https://raw.githubusercontent.com/jbrownlee/Datasets/master/iris.csv\n",
            "Resolving raw.githubusercontent.com (raw.githubusercontent.com)... 185.199.108.133, 185.199.109.133, 185.199.110.133, ...\n",
            "Connecting to raw.githubusercontent.com (raw.githubusercontent.com)|185.199.108.133|:443... connected.\n",
            "HTTP request sent, awaiting response... 200 OK\n",
            "Length: 4549 (4.4K) [text/plain]\n",
            "Saving to: ‘iris.csv’\n",
            "\n",
            "\riris.csv              0%[                    ]       0  --.-KB/s               \riris.csv            100%[===================>]   4.44K  --.-KB/s    in 0s      \n",
            "\n",
            "2024-01-13 14:46:33 (62.6 MB/s) - ‘iris.csv’ saved [4549/4549]\n",
            "\n"
          ]
        }
      ]
    },
    {
      "cell_type": "code",
      "source": [
        "names_column = ['sepal-length', 'sepal-width', 'petal-length', 'petal-width', 'class']"
      ],
      "metadata": {
        "id": "f3RHizn0SaYU"
      },
      "execution_count": null,
      "outputs": []
    },
    {
      "cell_type": "code",
      "source": [
        "iris =pd.read_csv(\"iris.csv\",names=names_column)\n",
        "iris.head()"
      ],
      "metadata": {
        "colab": {
          "base_uri": "https://localhost:8080/",
          "height": 206
        },
        "id": "IOqOq-_1OHr6",
        "outputId": "510522c9-25be-4efb-eaac-ddde40e67932"
      },
      "execution_count": null,
      "outputs": [
        {
          "output_type": "execute_result",
          "data": {
            "text/plain": [
              "   sepal-length  sepal-width  petal-length  petal-width        class\n",
              "0           5.1          3.5           1.4          0.2  Iris-setosa\n",
              "1           4.9          3.0           1.4          0.2  Iris-setosa\n",
              "2           4.7          3.2           1.3          0.2  Iris-setosa\n",
              "3           4.6          3.1           1.5          0.2  Iris-setosa\n",
              "4           5.0          3.6           1.4          0.2  Iris-setosa"
            ],
            "text/html": [
              "\n",
              "  <div id=\"df-c7767f90-f456-41c3-82e9-b53cfeb3b68f\" class=\"colab-df-container\">\n",
              "    <div>\n",
              "<style scoped>\n",
              "    .dataframe tbody tr th:only-of-type {\n",
              "        vertical-align: middle;\n",
              "    }\n",
              "\n",
              "    .dataframe tbody tr th {\n",
              "        vertical-align: top;\n",
              "    }\n",
              "\n",
              "    .dataframe thead th {\n",
              "        text-align: right;\n",
              "    }\n",
              "</style>\n",
              "<table border=\"1\" class=\"dataframe\">\n",
              "  <thead>\n",
              "    <tr style=\"text-align: right;\">\n",
              "      <th></th>\n",
              "      <th>sepal-length</th>\n",
              "      <th>sepal-width</th>\n",
              "      <th>petal-length</th>\n",
              "      <th>petal-width</th>\n",
              "      <th>class</th>\n",
              "    </tr>\n",
              "  </thead>\n",
              "  <tbody>\n",
              "    <tr>\n",
              "      <th>0</th>\n",
              "      <td>5.1</td>\n",
              "      <td>3.5</td>\n",
              "      <td>1.4</td>\n",
              "      <td>0.2</td>\n",
              "      <td>Iris-setosa</td>\n",
              "    </tr>\n",
              "    <tr>\n",
              "      <th>1</th>\n",
              "      <td>4.9</td>\n",
              "      <td>3.0</td>\n",
              "      <td>1.4</td>\n",
              "      <td>0.2</td>\n",
              "      <td>Iris-setosa</td>\n",
              "    </tr>\n",
              "    <tr>\n",
              "      <th>2</th>\n",
              "      <td>4.7</td>\n",
              "      <td>3.2</td>\n",
              "      <td>1.3</td>\n",
              "      <td>0.2</td>\n",
              "      <td>Iris-setosa</td>\n",
              "    </tr>\n",
              "    <tr>\n",
              "      <th>3</th>\n",
              "      <td>4.6</td>\n",
              "      <td>3.1</td>\n",
              "      <td>1.5</td>\n",
              "      <td>0.2</td>\n",
              "      <td>Iris-setosa</td>\n",
              "    </tr>\n",
              "    <tr>\n",
              "      <th>4</th>\n",
              "      <td>5.0</td>\n",
              "      <td>3.6</td>\n",
              "      <td>1.4</td>\n",
              "      <td>0.2</td>\n",
              "      <td>Iris-setosa</td>\n",
              "    </tr>\n",
              "  </tbody>\n",
              "</table>\n",
              "</div>\n",
              "    <div class=\"colab-df-buttons\">\n",
              "\n",
              "  <div class=\"colab-df-container\">\n",
              "    <button class=\"colab-df-convert\" onclick=\"convertToInteractive('df-c7767f90-f456-41c3-82e9-b53cfeb3b68f')\"\n",
              "            title=\"Convert this dataframe to an interactive table.\"\n",
              "            style=\"display:none;\">\n",
              "\n",
              "  <svg xmlns=\"http://www.w3.org/2000/svg\" height=\"24px\" viewBox=\"0 -960 960 960\">\n",
              "    <path d=\"M120-120v-720h720v720H120Zm60-500h600v-160H180v160Zm220 220h160v-160H400v160Zm0 220h160v-160H400v160ZM180-400h160v-160H180v160Zm440 0h160v-160H620v160ZM180-180h160v-160H180v160Zm440 0h160v-160H620v160Z\"/>\n",
              "  </svg>\n",
              "    </button>\n",
              "\n",
              "  <style>\n",
              "    .colab-df-container {\n",
              "      display:flex;\n",
              "      gap: 12px;\n",
              "    }\n",
              "\n",
              "    .colab-df-convert {\n",
              "      background-color: #E8F0FE;\n",
              "      border: none;\n",
              "      border-radius: 50%;\n",
              "      cursor: pointer;\n",
              "      display: none;\n",
              "      fill: #1967D2;\n",
              "      height: 32px;\n",
              "      padding: 0 0 0 0;\n",
              "      width: 32px;\n",
              "    }\n",
              "\n",
              "    .colab-df-convert:hover {\n",
              "      background-color: #E2EBFA;\n",
              "      box-shadow: 0px 1px 2px rgba(60, 64, 67, 0.3), 0px 1px 3px 1px rgba(60, 64, 67, 0.15);\n",
              "      fill: #174EA6;\n",
              "    }\n",
              "\n",
              "    .colab-df-buttons div {\n",
              "      margin-bottom: 4px;\n",
              "    }\n",
              "\n",
              "    [theme=dark] .colab-df-convert {\n",
              "      background-color: #3B4455;\n",
              "      fill: #D2E3FC;\n",
              "    }\n",
              "\n",
              "    [theme=dark] .colab-df-convert:hover {\n",
              "      background-color: #434B5C;\n",
              "      box-shadow: 0px 1px 3px 1px rgba(0, 0, 0, 0.15);\n",
              "      filter: drop-shadow(0px 1px 2px rgba(0, 0, 0, 0.3));\n",
              "      fill: #FFFFFF;\n",
              "    }\n",
              "  </style>\n",
              "\n",
              "    <script>\n",
              "      const buttonEl =\n",
              "        document.querySelector('#df-c7767f90-f456-41c3-82e9-b53cfeb3b68f button.colab-df-convert');\n",
              "      buttonEl.style.display =\n",
              "        google.colab.kernel.accessAllowed ? 'block' : 'none';\n",
              "\n",
              "      async function convertToInteractive(key) {\n",
              "        const element = document.querySelector('#df-c7767f90-f456-41c3-82e9-b53cfeb3b68f');\n",
              "        const dataTable =\n",
              "          await google.colab.kernel.invokeFunction('convertToInteractive',\n",
              "                                                    [key], {});\n",
              "        if (!dataTable) return;\n",
              "\n",
              "        const docLinkHtml = 'Like what you see? Visit the ' +\n",
              "          '<a target=\"_blank\" href=https://colab.research.google.com/notebooks/data_table.ipynb>data table notebook</a>'\n",
              "          + ' to learn more about interactive tables.';\n",
              "        element.innerHTML = '';\n",
              "        dataTable['output_type'] = 'display_data';\n",
              "        await google.colab.output.renderOutput(dataTable, element);\n",
              "        const docLink = document.createElement('div');\n",
              "        docLink.innerHTML = docLinkHtml;\n",
              "        element.appendChild(docLink);\n",
              "      }\n",
              "    </script>\n",
              "  </div>\n",
              "\n",
              "\n",
              "<div id=\"df-5a047800-a63f-43bb-afa8-41895782ac04\">\n",
              "  <button class=\"colab-df-quickchart\" onclick=\"quickchart('df-5a047800-a63f-43bb-afa8-41895782ac04')\"\n",
              "            title=\"Suggest charts\"\n",
              "            style=\"display:none;\">\n",
              "\n",
              "<svg xmlns=\"http://www.w3.org/2000/svg\" height=\"24px\"viewBox=\"0 0 24 24\"\n",
              "     width=\"24px\">\n",
              "    <g>\n",
              "        <path d=\"M19 3H5c-1.1 0-2 .9-2 2v14c0 1.1.9 2 2 2h14c1.1 0 2-.9 2-2V5c0-1.1-.9-2-2-2zM9 17H7v-7h2v7zm4 0h-2V7h2v10zm4 0h-2v-4h2v4z\"/>\n",
              "    </g>\n",
              "</svg>\n",
              "  </button>\n",
              "\n",
              "<style>\n",
              "  .colab-df-quickchart {\n",
              "      --bg-color: #E8F0FE;\n",
              "      --fill-color: #1967D2;\n",
              "      --hover-bg-color: #E2EBFA;\n",
              "      --hover-fill-color: #174EA6;\n",
              "      --disabled-fill-color: #AAA;\n",
              "      --disabled-bg-color: #DDD;\n",
              "  }\n",
              "\n",
              "  [theme=dark] .colab-df-quickchart {\n",
              "      --bg-color: #3B4455;\n",
              "      --fill-color: #D2E3FC;\n",
              "      --hover-bg-color: #434B5C;\n",
              "      --hover-fill-color: #FFFFFF;\n",
              "      --disabled-bg-color: #3B4455;\n",
              "      --disabled-fill-color: #666;\n",
              "  }\n",
              "\n",
              "  .colab-df-quickchart {\n",
              "    background-color: var(--bg-color);\n",
              "    border: none;\n",
              "    border-radius: 50%;\n",
              "    cursor: pointer;\n",
              "    display: none;\n",
              "    fill: var(--fill-color);\n",
              "    height: 32px;\n",
              "    padding: 0;\n",
              "    width: 32px;\n",
              "  }\n",
              "\n",
              "  .colab-df-quickchart:hover {\n",
              "    background-color: var(--hover-bg-color);\n",
              "    box-shadow: 0 1px 2px rgba(60, 64, 67, 0.3), 0 1px 3px 1px rgba(60, 64, 67, 0.15);\n",
              "    fill: var(--button-hover-fill-color);\n",
              "  }\n",
              "\n",
              "  .colab-df-quickchart-complete:disabled,\n",
              "  .colab-df-quickchart-complete:disabled:hover {\n",
              "    background-color: var(--disabled-bg-color);\n",
              "    fill: var(--disabled-fill-color);\n",
              "    box-shadow: none;\n",
              "  }\n",
              "\n",
              "  .colab-df-spinner {\n",
              "    border: 2px solid var(--fill-color);\n",
              "    border-color: transparent;\n",
              "    border-bottom-color: var(--fill-color);\n",
              "    animation:\n",
              "      spin 1s steps(1) infinite;\n",
              "  }\n",
              "\n",
              "  @keyframes spin {\n",
              "    0% {\n",
              "      border-color: transparent;\n",
              "      border-bottom-color: var(--fill-color);\n",
              "      border-left-color: var(--fill-color);\n",
              "    }\n",
              "    20% {\n",
              "      border-color: transparent;\n",
              "      border-left-color: var(--fill-color);\n",
              "      border-top-color: var(--fill-color);\n",
              "    }\n",
              "    30% {\n",
              "      border-color: transparent;\n",
              "      border-left-color: var(--fill-color);\n",
              "      border-top-color: var(--fill-color);\n",
              "      border-right-color: var(--fill-color);\n",
              "    }\n",
              "    40% {\n",
              "      border-color: transparent;\n",
              "      border-right-color: var(--fill-color);\n",
              "      border-top-color: var(--fill-color);\n",
              "    }\n",
              "    60% {\n",
              "      border-color: transparent;\n",
              "      border-right-color: var(--fill-color);\n",
              "    }\n",
              "    80% {\n",
              "      border-color: transparent;\n",
              "      border-right-color: var(--fill-color);\n",
              "      border-bottom-color: var(--fill-color);\n",
              "    }\n",
              "    90% {\n",
              "      border-color: transparent;\n",
              "      border-bottom-color: var(--fill-color);\n",
              "    }\n",
              "  }\n",
              "</style>\n",
              "\n",
              "  <script>\n",
              "    async function quickchart(key) {\n",
              "      const quickchartButtonEl =\n",
              "        document.querySelector('#' + key + ' button');\n",
              "      quickchartButtonEl.disabled = true;  // To prevent multiple clicks.\n",
              "      quickchartButtonEl.classList.add('colab-df-spinner');\n",
              "      try {\n",
              "        const charts = await google.colab.kernel.invokeFunction(\n",
              "            'suggestCharts', [key], {});\n",
              "      } catch (error) {\n",
              "        console.error('Error during call to suggestCharts:', error);\n",
              "      }\n",
              "      quickchartButtonEl.classList.remove('colab-df-spinner');\n",
              "      quickchartButtonEl.classList.add('colab-df-quickchart-complete');\n",
              "    }\n",
              "    (() => {\n",
              "      let quickchartButtonEl =\n",
              "        document.querySelector('#df-5a047800-a63f-43bb-afa8-41895782ac04 button');\n",
              "      quickchartButtonEl.style.display =\n",
              "        google.colab.kernel.accessAllowed ? 'block' : 'none';\n",
              "    })();\n",
              "  </script>\n",
              "</div>\n",
              "\n",
              "    </div>\n",
              "  </div>\n"
            ]
          },
          "metadata": {},
          "execution_count": 9
        }
      ]
    },
    {
      "cell_type": "code",
      "source": [
        "class_mapping = {\"Iris-setosa\": 0, \"Iris-versicolor\": 1, \"Iris-virginica\": 2}\n",
        "iris[\"class\"] = iris[\"class\"].map(class_mapping)\n"
      ],
      "metadata": {
        "id": "eF-cgaD8Mzmv"
      },
      "execution_count": null,
      "outputs": []
    },
    {
      "cell_type": "code",
      "source": [
        "X = iris.drop(\"class\", axis=1)\n",
        "y = iris[\"class\"]\n"
      ],
      "metadata": {
        "id": "3rqbuX1KMzkN"
      },
      "execution_count": null,
      "outputs": []
    },
    {
      "cell_type": "markdown",
      "source": [
        "Split the data into training and testing sets"
      ],
      "metadata": {
        "id": "PU_7kBrTUGcu"
      }
    },
    {
      "cell_type": "code",
      "source": [
        "X_train, X_test, y_train, y_test = train_test_split(X, y, test_size=0.2, random_state=42)\n"
      ],
      "metadata": {
        "id": "giegZhJtMzhw"
      },
      "execution_count": null,
      "outputs": []
    },
    {
      "cell_type": "markdown",
      "source": [
        "Building MLP model\n"
      ],
      "metadata": {
        "id": "X3iygi1NT2sV"
      }
    },
    {
      "cell_type": "code",
      "source": [
        "scaler = StandardScaler()\n",
        "X_train = scaler.fit_transform(X_train)\n",
        "X_test = scaler.transform(X_test)"
      ],
      "metadata": {
        "id": "rvCr_fzlMzfh"
      },
      "execution_count": null,
      "outputs": []
    },
    {
      "cell_type": "code",
      "source": [
        "model = keras.Sequential([\n",
        "    layers.Dense(64, activation='relu', input_shape=(4,)),\n",
        "    layers.Dense(64, activation='relu'),\n",
        "    layers.Dense(3, activation='softmax')\n",
        "])"
      ],
      "metadata": {
        "id": "PS7sq5zYMzct"
      },
      "execution_count": null,
      "outputs": []
    },
    {
      "cell_type": "code",
      "source": [
        "model = keras.Sequential([\n",
        "    layers.Dense(64, activation='relu', input_shape=(4,)),\n",
        "    layers.Dense(64, activation='relu'),\n",
        "    layers.Dense(3, activation='softmax')])\n"
      ],
      "metadata": {
        "id": "U5-J8p_lS9qg"
      },
      "execution_count": null,
      "outputs": []
    },
    {
      "cell_type": "markdown",
      "source": [
        "Compile the model"
      ],
      "metadata": {
        "id": "MugB7jr8ULRd"
      }
    },
    {
      "cell_type": "code",
      "source": [
        "model.compile(optimizer='adam',\n",
        "              loss='sparse_categorical_crossentropy',\n",
        "              metrics=['accuracy'])\n"
      ],
      "metadata": {
        "id": "q9SPBvL9S9if"
      },
      "execution_count": null,
      "outputs": []
    },
    {
      "cell_type": "markdown",
      "source": [
        "Train the model"
      ],
      "metadata": {
        "id": "xh6a5S6dUMmt"
      }
    },
    {
      "cell_type": "code",
      "source": [
        "model.fit(X_train, y_train, epochs=50, batch_size=32, validation_split=0.2)\n"
      ],
      "metadata": {
        "colab": {
          "base_uri": "https://localhost:8080/"
        },
        "id": "J_B4kgzYS9bX",
        "outputId": "92fe0bd7-8a0c-4fe8-d62c-9f3ace2e33c3"
      },
      "execution_count": null,
      "outputs": [
        {
          "output_type": "stream",
          "name": "stdout",
          "text": [
            "Epoch 1/50\n",
            "3/3 [==============================] - 3s 106ms/step - loss: 0.9663 - accuracy: 0.6458 - val_loss: 1.0200 - val_accuracy: 0.5000\n",
            "Epoch 2/50\n",
            "3/3 [==============================] - 0s 15ms/step - loss: 0.8730 - accuracy: 0.7292 - val_loss: 0.9296 - val_accuracy: 0.5000\n",
            "Epoch 3/50\n",
            "3/3 [==============================] - 0s 15ms/step - loss: 0.7919 - accuracy: 0.7708 - val_loss: 0.8522 - val_accuracy: 0.7500\n",
            "Epoch 4/50\n",
            "3/3 [==============================] - 0s 15ms/step - loss: 0.7260 - accuracy: 0.8750 - val_loss: 0.7838 - val_accuracy: 0.8750\n",
            "Epoch 5/50\n",
            "3/3 [==============================] - 0s 15ms/step - loss: 0.6666 - accuracy: 0.8542 - val_loss: 0.7252 - val_accuracy: 0.8750\n",
            "Epoch 6/50\n",
            "3/3 [==============================] - 0s 15ms/step - loss: 0.6190 - accuracy: 0.8125 - val_loss: 0.6740 - val_accuracy: 0.8750\n",
            "Epoch 7/50\n",
            "3/3 [==============================] - 0s 16ms/step - loss: 0.5767 - accuracy: 0.8125 - val_loss: 0.6289 - val_accuracy: 0.8750\n",
            "Epoch 8/50\n",
            "3/3 [==============================] - 0s 15ms/step - loss: 0.5427 - accuracy: 0.8125 - val_loss: 0.5886 - val_accuracy: 0.8750\n",
            "Epoch 9/50\n",
            "3/3 [==============================] - 0s 16ms/step - loss: 0.5107 - accuracy: 0.8125 - val_loss: 0.5549 - val_accuracy: 0.8750\n",
            "Epoch 10/50\n",
            "3/3 [==============================] - 0s 15ms/step - loss: 0.4849 - accuracy: 0.8125 - val_loss: 0.5237 - val_accuracy: 0.8750\n",
            "Epoch 11/50\n",
            "3/3 [==============================] - 0s 15ms/step - loss: 0.4605 - accuracy: 0.8229 - val_loss: 0.4968 - val_accuracy: 0.8750\n",
            "Epoch 12/50\n",
            "3/3 [==============================] - 0s 17ms/step - loss: 0.4390 - accuracy: 0.8229 - val_loss: 0.4724 - val_accuracy: 0.8750\n",
            "Epoch 13/50\n",
            "3/3 [==============================] - 0s 15ms/step - loss: 0.4205 - accuracy: 0.8229 - val_loss: 0.4519 - val_accuracy: 0.8750\n",
            "Epoch 14/50\n",
            "3/3 [==============================] - 0s 16ms/step - loss: 0.4027 - accuracy: 0.8333 - val_loss: 0.4325 - val_accuracy: 0.8750\n",
            "Epoch 15/50\n",
            "3/3 [==============================] - 0s 15ms/step - loss: 0.3861 - accuracy: 0.8438 - val_loss: 0.4149 - val_accuracy: 0.9167\n",
            "Epoch 16/50\n",
            "3/3 [==============================] - 0s 15ms/step - loss: 0.3726 - accuracy: 0.8438 - val_loss: 0.3994 - val_accuracy: 0.9167\n",
            "Epoch 17/50\n",
            "3/3 [==============================] - 0s 14ms/step - loss: 0.3600 - accuracy: 0.8438 - val_loss: 0.3866 - val_accuracy: 0.9167\n",
            "Epoch 18/50\n",
            "3/3 [==============================] - 0s 15ms/step - loss: 0.3470 - accuracy: 0.8438 - val_loss: 0.3731 - val_accuracy: 0.9167\n",
            "Epoch 19/50\n",
            "3/3 [==============================] - 0s 15ms/step - loss: 0.3358 - accuracy: 0.8438 - val_loss: 0.3603 - val_accuracy: 0.9167\n",
            "Epoch 20/50\n",
            "3/3 [==============================] - 0s 15ms/step - loss: 0.3248 - accuracy: 0.8542 - val_loss: 0.3508 - val_accuracy: 0.9167\n",
            "Epoch 21/50\n",
            "3/3 [==============================] - 0s 15ms/step - loss: 0.3146 - accuracy: 0.8542 - val_loss: 0.3422 - val_accuracy: 0.9167\n",
            "Epoch 22/50\n",
            "3/3 [==============================] - 0s 16ms/step - loss: 0.3050 - accuracy: 0.8646 - val_loss: 0.3337 - val_accuracy: 0.9167\n",
            "Epoch 23/50\n",
            "3/3 [==============================] - 0s 24ms/step - loss: 0.2960 - accuracy: 0.8646 - val_loss: 0.3274 - val_accuracy: 0.9167\n",
            "Epoch 24/50\n",
            "3/3 [==============================] - 0s 15ms/step - loss: 0.2873 - accuracy: 0.8958 - val_loss: 0.3198 - val_accuracy: 0.9167\n",
            "Epoch 25/50\n",
            "3/3 [==============================] - 0s 16ms/step - loss: 0.2784 - accuracy: 0.8958 - val_loss: 0.3108 - val_accuracy: 0.9167\n",
            "Epoch 26/50\n",
            "3/3 [==============================] - 0s 15ms/step - loss: 0.2698 - accuracy: 0.9062 - val_loss: 0.3038 - val_accuracy: 0.9167\n",
            "Epoch 27/50\n",
            "3/3 [==============================] - 0s 15ms/step - loss: 0.2610 - accuracy: 0.9062 - val_loss: 0.2959 - val_accuracy: 0.9167\n",
            "Epoch 28/50\n",
            "3/3 [==============================] - 0s 15ms/step - loss: 0.2533 - accuracy: 0.9062 - val_loss: 0.2872 - val_accuracy: 0.9167\n",
            "Epoch 29/50\n",
            "3/3 [==============================] - 0s 15ms/step - loss: 0.2462 - accuracy: 0.9271 - val_loss: 0.2858 - val_accuracy: 0.9583\n",
            "Epoch 30/50\n",
            "3/3 [==============================] - 0s 15ms/step - loss: 0.2369 - accuracy: 0.9479 - val_loss: 0.2792 - val_accuracy: 0.9583\n",
            "Epoch 31/50\n",
            "3/3 [==============================] - 0s 15ms/step - loss: 0.2297 - accuracy: 0.9479 - val_loss: 0.2714 - val_accuracy: 0.9583\n",
            "Epoch 32/50\n",
            "3/3 [==============================] - 0s 14ms/step - loss: 0.2226 - accuracy: 0.9479 - val_loss: 0.2637 - val_accuracy: 0.9583\n",
            "Epoch 33/50\n",
            "3/3 [==============================] - 0s 14ms/step - loss: 0.2142 - accuracy: 0.9479 - val_loss: 0.2593 - val_accuracy: 0.9583\n",
            "Epoch 34/50\n",
            "3/3 [==============================] - 0s 14ms/step - loss: 0.2072 - accuracy: 0.9479 - val_loss: 0.2577 - val_accuracy: 0.9583\n",
            "Epoch 35/50\n",
            "3/3 [==============================] - 0s 20ms/step - loss: 0.1990 - accuracy: 0.9479 - val_loss: 0.2514 - val_accuracy: 0.9583\n",
            "Epoch 36/50\n",
            "3/3 [==============================] - 0s 15ms/step - loss: 0.1923 - accuracy: 0.9479 - val_loss: 0.2435 - val_accuracy: 0.9583\n",
            "Epoch 37/50\n",
            "3/3 [==============================] - 0s 14ms/step - loss: 0.1854 - accuracy: 0.9479 - val_loss: 0.2374 - val_accuracy: 0.9583\n",
            "Epoch 38/50\n",
            "3/3 [==============================] - 0s 14ms/step - loss: 0.1786 - accuracy: 0.9479 - val_loss: 0.2350 - val_accuracy: 0.9583\n",
            "Epoch 39/50\n",
            "3/3 [==============================] - 0s 15ms/step - loss: 0.1716 - accuracy: 0.9479 - val_loss: 0.2259 - val_accuracy: 0.9583\n",
            "Epoch 40/50\n",
            "3/3 [==============================] - 0s 15ms/step - loss: 0.1650 - accuracy: 0.9583 - val_loss: 0.2216 - val_accuracy: 0.9583\n",
            "Epoch 41/50\n",
            "3/3 [==============================] - 0s 16ms/step - loss: 0.1597 - accuracy: 0.9583 - val_loss: 0.2233 - val_accuracy: 0.9583\n",
            "Epoch 42/50\n",
            "3/3 [==============================] - 0s 16ms/step - loss: 0.1533 - accuracy: 0.9583 - val_loss: 0.2200 - val_accuracy: 0.9583\n",
            "Epoch 43/50\n",
            "3/3 [==============================] - 0s 16ms/step - loss: 0.1479 - accuracy: 0.9583 - val_loss: 0.2201 - val_accuracy: 0.9583\n",
            "Epoch 44/50\n",
            "3/3 [==============================] - 0s 15ms/step - loss: 0.1419 - accuracy: 0.9583 - val_loss: 0.2149 - val_accuracy: 0.9583\n",
            "Epoch 45/50\n",
            "3/3 [==============================] - 0s 15ms/step - loss: 0.1375 - accuracy: 0.9583 - val_loss: 0.2069 - val_accuracy: 0.9583\n",
            "Epoch 46/50\n",
            "3/3 [==============================] - 0s 16ms/step - loss: 0.1328 - accuracy: 0.9583 - val_loss: 0.2090 - val_accuracy: 0.9583\n",
            "Epoch 47/50\n",
            "3/3 [==============================] - 0s 15ms/step - loss: 0.1281 - accuracy: 0.9583 - val_loss: 0.2116 - val_accuracy: 0.9167\n",
            "Epoch 48/50\n",
            "3/3 [==============================] - 0s 15ms/step - loss: 0.1231 - accuracy: 0.9583 - val_loss: 0.2052 - val_accuracy: 0.9583\n",
            "Epoch 49/50\n",
            "3/3 [==============================] - 0s 14ms/step - loss: 0.1195 - accuracy: 0.9583 - val_loss: 0.1996 - val_accuracy: 0.9583\n",
            "Epoch 50/50\n",
            "3/3 [==============================] - 0s 16ms/step - loss: 0.1163 - accuracy: 0.9583 - val_loss: 0.2052 - val_accuracy: 0.9167\n"
          ]
        },
        {
          "output_type": "execute_result",
          "data": {
            "text/plain": [
              "<keras.src.callbacks.History at 0x7cf050296860>"
            ]
          },
          "metadata": {},
          "execution_count": 18
        }
      ]
    },
    {
      "cell_type": "code",
      "source": [
        "test_loss, test_accuracy = model.evaluate(X_test, y_test)\n",
        "print(f\"Test Accuracy: {test_accuracy}\")"
      ],
      "metadata": {
        "colab": {
          "base_uri": "https://localhost:8080/"
        },
        "id": "5W-mcgiRTbHq",
        "outputId": "aa9f490d-9e60-43b7-e483-3f381dfa6b25"
      },
      "execution_count": null,
      "outputs": [
        {
          "output_type": "stream",
          "name": "stdout",
          "text": [
            "1/1 [==============================] - 0s 23ms/step - loss: 0.0980 - accuracy: 1.0000\n",
            "Test Accuracy: 1.0\n"
          ]
        }
      ]
    },
    {
      "cell_type": "code",
      "source": [
        "predictions = model.predict(X_test)\n",
        "predicted_classes = predictions.argmax(axis=1)"
      ],
      "metadata": {
        "colab": {
          "base_uri": "https://localhost:8080/"
        },
        "id": "uq9aCtiATc-S",
        "outputId": "9a102e07-d379-4a36-9ac2-4808f03fa8b3"
      },
      "execution_count": null,
      "outputs": [
        {
          "output_type": "stream",
          "name": "stdout",
          "text": [
            "1/1 [==============================] - 0s 70ms/step\n"
          ]
        }
      ]
    },
    {
      "cell_type": "code",
      "source": [
        "predicted_class_labels = [list(class_mapping.keys())[i] for i in predicted_classes]"
      ],
      "metadata": {
        "id": "0VhKIM0xS9NY"
      },
      "execution_count": null,
      "outputs": []
    },
    {
      "cell_type": "code",
      "source": [
        "print(\"True Classes:\", list(y_test))\n",
        "print(\"Predicted Classes:\", predicted_class_labels)"
      ],
      "metadata": {
        "colab": {
          "base_uri": "https://localhost:8080/"
        },
        "id": "OxAR8C1TS9EX",
        "outputId": "369344e9-4344-4382-a18e-ae1401a162e1"
      },
      "execution_count": null,
      "outputs": [
        {
          "output_type": "stream",
          "name": "stdout",
          "text": [
            "True Classes: [1, 0, 2, 1, 1, 0, 1, 2, 1, 1, 2, 0, 0, 0, 0, 1, 2, 1, 1, 2, 0, 2, 0, 2, 2, 2, 2, 2, 0, 0]\n",
            "Predicted Classes: ['Iris-versicolor', 'Iris-setosa', 'Iris-virginica', 'Iris-versicolor', 'Iris-versicolor', 'Iris-setosa', 'Iris-versicolor', 'Iris-virginica', 'Iris-versicolor', 'Iris-versicolor', 'Iris-virginica', 'Iris-setosa', 'Iris-setosa', 'Iris-setosa', 'Iris-setosa', 'Iris-versicolor', 'Iris-virginica', 'Iris-versicolor', 'Iris-versicolor', 'Iris-virginica', 'Iris-setosa', 'Iris-virginica', 'Iris-setosa', 'Iris-virginica', 'Iris-virginica', 'Iris-virginica', 'Iris-virginica', 'Iris-virginica', 'Iris-setosa', 'Iris-setosa']\n"
          ]
        }
      ]
    }
  ]
}